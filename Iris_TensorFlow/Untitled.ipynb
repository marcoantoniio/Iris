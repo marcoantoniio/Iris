{
 "cells": [
  {
   "cell_type": "code",
   "execution_count": 1,
   "id": "4ff1aff7",
   "metadata": {},
   "outputs": [],
   "source": [
    "import tensorflow as tf\n",
    "from tensorflow import keras\n",
    "import keras\n",
    "import matplotlib.pyplot as plt\n",
    "import seaborn as sns\n",
    "import pandas as pd\n",
    "import numpy as np\n",
    "from sklearn.model_selection import train_test_split\n",
    "from sklearn.preprocessing import LabelEncoder"
   ]
  },
  {
   "cell_type": "code",
   "execution_count": 2,
   "id": "a4496e53",
   "metadata": {},
   "outputs": [],
   "source": [
    "df = pd.read_csv('iris.csv')"
   ]
  },
  {
   "cell_type": "code",
   "execution_count": 3,
   "id": "9b241435",
   "metadata": {},
   "outputs": [
    {
     "data": {
      "text/html": [
       "<div>\n",
       "<style scoped>\n",
       "    .dataframe tbody tr th:only-of-type {\n",
       "        vertical-align: middle;\n",
       "    }\n",
       "\n",
       "    .dataframe tbody tr th {\n",
       "        vertical-align: top;\n",
       "    }\n",
       "\n",
       "    .dataframe thead th {\n",
       "        text-align: right;\n",
       "    }\n",
       "</style>\n",
       "<table border=\"1\" class=\"dataframe\">\n",
       "  <thead>\n",
       "    <tr style=\"text-align: right;\">\n",
       "      <th></th>\n",
       "      <th>Id</th>\n",
       "      <th>SepalLengthCm</th>\n",
       "      <th>SepalWidthCm</th>\n",
       "      <th>PetalLengthCm</th>\n",
       "      <th>PetalWidthCm</th>\n",
       "      <th>Species</th>\n",
       "    </tr>\n",
       "  </thead>\n",
       "  <tbody>\n",
       "    <tr>\n",
       "      <th>0</th>\n",
       "      <td>1</td>\n",
       "      <td>5.1</td>\n",
       "      <td>3.5</td>\n",
       "      <td>1.4</td>\n",
       "      <td>0.2</td>\n",
       "      <td>Iris-setosa</td>\n",
       "    </tr>\n",
       "    <tr>\n",
       "      <th>1</th>\n",
       "      <td>2</td>\n",
       "      <td>4.9</td>\n",
       "      <td>3.0</td>\n",
       "      <td>1.4</td>\n",
       "      <td>0.2</td>\n",
       "      <td>Iris-setosa</td>\n",
       "    </tr>\n",
       "    <tr>\n",
       "      <th>2</th>\n",
       "      <td>3</td>\n",
       "      <td>4.7</td>\n",
       "      <td>3.2</td>\n",
       "      <td>1.3</td>\n",
       "      <td>0.2</td>\n",
       "      <td>Iris-setosa</td>\n",
       "    </tr>\n",
       "    <tr>\n",
       "      <th>3</th>\n",
       "      <td>4</td>\n",
       "      <td>4.6</td>\n",
       "      <td>3.1</td>\n",
       "      <td>1.5</td>\n",
       "      <td>0.2</td>\n",
       "      <td>Iris-setosa</td>\n",
       "    </tr>\n",
       "    <tr>\n",
       "      <th>4</th>\n",
       "      <td>5</td>\n",
       "      <td>5.0</td>\n",
       "      <td>3.6</td>\n",
       "      <td>1.4</td>\n",
       "      <td>0.2</td>\n",
       "      <td>Iris-setosa</td>\n",
       "    </tr>\n",
       "    <tr>\n",
       "      <th>...</th>\n",
       "      <td>...</td>\n",
       "      <td>...</td>\n",
       "      <td>...</td>\n",
       "      <td>...</td>\n",
       "      <td>...</td>\n",
       "      <td>...</td>\n",
       "    </tr>\n",
       "    <tr>\n",
       "      <th>145</th>\n",
       "      <td>146</td>\n",
       "      <td>6.7</td>\n",
       "      <td>3.0</td>\n",
       "      <td>5.2</td>\n",
       "      <td>2.3</td>\n",
       "      <td>Iris-virginica</td>\n",
       "    </tr>\n",
       "    <tr>\n",
       "      <th>146</th>\n",
       "      <td>147</td>\n",
       "      <td>6.3</td>\n",
       "      <td>2.5</td>\n",
       "      <td>5.0</td>\n",
       "      <td>1.9</td>\n",
       "      <td>Iris-virginica</td>\n",
       "    </tr>\n",
       "    <tr>\n",
       "      <th>147</th>\n",
       "      <td>148</td>\n",
       "      <td>6.5</td>\n",
       "      <td>3.0</td>\n",
       "      <td>5.2</td>\n",
       "      <td>2.0</td>\n",
       "      <td>Iris-virginica</td>\n",
       "    </tr>\n",
       "    <tr>\n",
       "      <th>148</th>\n",
       "      <td>149</td>\n",
       "      <td>6.2</td>\n",
       "      <td>3.4</td>\n",
       "      <td>5.4</td>\n",
       "      <td>2.3</td>\n",
       "      <td>Iris-virginica</td>\n",
       "    </tr>\n",
       "    <tr>\n",
       "      <th>149</th>\n",
       "      <td>150</td>\n",
       "      <td>5.9</td>\n",
       "      <td>3.0</td>\n",
       "      <td>5.1</td>\n",
       "      <td>1.8</td>\n",
       "      <td>Iris-virginica</td>\n",
       "    </tr>\n",
       "  </tbody>\n",
       "</table>\n",
       "<p>150 rows × 6 columns</p>\n",
       "</div>"
      ],
      "text/plain": [
       "      Id  SepalLengthCm  SepalWidthCm  PetalLengthCm  PetalWidthCm  \\\n",
       "0      1            5.1           3.5            1.4           0.2   \n",
       "1      2            4.9           3.0            1.4           0.2   \n",
       "2      3            4.7           3.2            1.3           0.2   \n",
       "3      4            4.6           3.1            1.5           0.2   \n",
       "4      5            5.0           3.6            1.4           0.2   \n",
       "..   ...            ...           ...            ...           ...   \n",
       "145  146            6.7           3.0            5.2           2.3   \n",
       "146  147            6.3           2.5            5.0           1.9   \n",
       "147  148            6.5           3.0            5.2           2.0   \n",
       "148  149            6.2           3.4            5.4           2.3   \n",
       "149  150            5.9           3.0            5.1           1.8   \n",
       "\n",
       "            Species  \n",
       "0       Iris-setosa  \n",
       "1       Iris-setosa  \n",
       "2       Iris-setosa  \n",
       "3       Iris-setosa  \n",
       "4       Iris-setosa  \n",
       "..              ...  \n",
       "145  Iris-virginica  \n",
       "146  Iris-virginica  \n",
       "147  Iris-virginica  \n",
       "148  Iris-virginica  \n",
       "149  Iris-virginica  \n",
       "\n",
       "[150 rows x 6 columns]"
      ]
     },
     "execution_count": 3,
     "metadata": {},
     "output_type": "execute_result"
    }
   ],
   "source": [
    "df"
   ]
  },
  {
   "cell_type": "code",
   "execution_count": 4,
   "id": "09efce50",
   "metadata": {},
   "outputs": [],
   "source": [
    "df.drop('Id', axis=1, inplace=True)"
   ]
  },
  {
   "cell_type": "code",
   "execution_count": 5,
   "id": "899ac921",
   "metadata": {},
   "outputs": [
    {
     "data": {
      "text/html": [
       "<div>\n",
       "<style scoped>\n",
       "    .dataframe tbody tr th:only-of-type {\n",
       "        vertical-align: middle;\n",
       "    }\n",
       "\n",
       "    .dataframe tbody tr th {\n",
       "        vertical-align: top;\n",
       "    }\n",
       "\n",
       "    .dataframe thead th {\n",
       "        text-align: right;\n",
       "    }\n",
       "</style>\n",
       "<table border=\"1\" class=\"dataframe\">\n",
       "  <thead>\n",
       "    <tr style=\"text-align: right;\">\n",
       "      <th></th>\n",
       "      <th>SepalLengthCm</th>\n",
       "      <th>SepalWidthCm</th>\n",
       "      <th>PetalLengthCm</th>\n",
       "      <th>PetalWidthCm</th>\n",
       "      <th>Species</th>\n",
       "    </tr>\n",
       "  </thead>\n",
       "  <tbody>\n",
       "    <tr>\n",
       "      <th>0</th>\n",
       "      <td>5.1</td>\n",
       "      <td>3.5</td>\n",
       "      <td>1.4</td>\n",
       "      <td>0.2</td>\n",
       "      <td>Iris-setosa</td>\n",
       "    </tr>\n",
       "    <tr>\n",
       "      <th>1</th>\n",
       "      <td>4.9</td>\n",
       "      <td>3.0</td>\n",
       "      <td>1.4</td>\n",
       "      <td>0.2</td>\n",
       "      <td>Iris-setosa</td>\n",
       "    </tr>\n",
       "    <tr>\n",
       "      <th>2</th>\n",
       "      <td>4.7</td>\n",
       "      <td>3.2</td>\n",
       "      <td>1.3</td>\n",
       "      <td>0.2</td>\n",
       "      <td>Iris-setosa</td>\n",
       "    </tr>\n",
       "    <tr>\n",
       "      <th>3</th>\n",
       "      <td>4.6</td>\n",
       "      <td>3.1</td>\n",
       "      <td>1.5</td>\n",
       "      <td>0.2</td>\n",
       "      <td>Iris-setosa</td>\n",
       "    </tr>\n",
       "    <tr>\n",
       "      <th>4</th>\n",
       "      <td>5.0</td>\n",
       "      <td>3.6</td>\n",
       "      <td>1.4</td>\n",
       "      <td>0.2</td>\n",
       "      <td>Iris-setosa</td>\n",
       "    </tr>\n",
       "    <tr>\n",
       "      <th>...</th>\n",
       "      <td>...</td>\n",
       "      <td>...</td>\n",
       "      <td>...</td>\n",
       "      <td>...</td>\n",
       "      <td>...</td>\n",
       "    </tr>\n",
       "    <tr>\n",
       "      <th>145</th>\n",
       "      <td>6.7</td>\n",
       "      <td>3.0</td>\n",
       "      <td>5.2</td>\n",
       "      <td>2.3</td>\n",
       "      <td>Iris-virginica</td>\n",
       "    </tr>\n",
       "    <tr>\n",
       "      <th>146</th>\n",
       "      <td>6.3</td>\n",
       "      <td>2.5</td>\n",
       "      <td>5.0</td>\n",
       "      <td>1.9</td>\n",
       "      <td>Iris-virginica</td>\n",
       "    </tr>\n",
       "    <tr>\n",
       "      <th>147</th>\n",
       "      <td>6.5</td>\n",
       "      <td>3.0</td>\n",
       "      <td>5.2</td>\n",
       "      <td>2.0</td>\n",
       "      <td>Iris-virginica</td>\n",
       "    </tr>\n",
       "    <tr>\n",
       "      <th>148</th>\n",
       "      <td>6.2</td>\n",
       "      <td>3.4</td>\n",
       "      <td>5.4</td>\n",
       "      <td>2.3</td>\n",
       "      <td>Iris-virginica</td>\n",
       "    </tr>\n",
       "    <tr>\n",
       "      <th>149</th>\n",
       "      <td>5.9</td>\n",
       "      <td>3.0</td>\n",
       "      <td>5.1</td>\n",
       "      <td>1.8</td>\n",
       "      <td>Iris-virginica</td>\n",
       "    </tr>\n",
       "  </tbody>\n",
       "</table>\n",
       "<p>150 rows × 5 columns</p>\n",
       "</div>"
      ],
      "text/plain": [
       "     SepalLengthCm  SepalWidthCm  PetalLengthCm  PetalWidthCm         Species\n",
       "0              5.1           3.5            1.4           0.2     Iris-setosa\n",
       "1              4.9           3.0            1.4           0.2     Iris-setosa\n",
       "2              4.7           3.2            1.3           0.2     Iris-setosa\n",
       "3              4.6           3.1            1.5           0.2     Iris-setosa\n",
       "4              5.0           3.6            1.4           0.2     Iris-setosa\n",
       "..             ...           ...            ...           ...             ...\n",
       "145            6.7           3.0            5.2           2.3  Iris-virginica\n",
       "146            6.3           2.5            5.0           1.9  Iris-virginica\n",
       "147            6.5           3.0            5.2           2.0  Iris-virginica\n",
       "148            6.2           3.4            5.4           2.3  Iris-virginica\n",
       "149            5.9           3.0            5.1           1.8  Iris-virginica\n",
       "\n",
       "[150 rows x 5 columns]"
      ]
     },
     "execution_count": 5,
     "metadata": {},
     "output_type": "execute_result"
    }
   ],
   "source": [
    "df"
   ]
  },
  {
   "cell_type": "code",
   "execution_count": 6,
   "id": "344e5890",
   "metadata": {},
   "outputs": [],
   "source": [
    "X = df.loc[:, df.columns != 'Species']\n",
    "y = df.loc[:, ['Species']]"
   ]
  },
  {
   "cell_type": "code",
   "execution_count": 7,
   "id": "b4db7009",
   "metadata": {},
   "outputs": [
    {
     "name": "stderr",
     "output_type": "stream",
     "text": [
      "D:\\Anaconda\\envs\\TensorFlow\\lib\\site-packages\\sklearn\\preprocessing\\_label.py:114: DataConversionWarning: A column-vector y was passed when a 1d array was expected. Please change the shape of y to (n_samples, ), for example using ravel().\n",
      "  y = column_or_1d(y, warn=True)\n"
     ]
    }
   ],
   "source": [
    "y_enc = LabelEncoder().fit_transform(y)\n",
    "y_label = tf.keras.utils.to_categorical(y_enc)"
   ]
  },
  {
   "cell_type": "code",
   "execution_count": 8,
   "id": "5452617a",
   "metadata": {},
   "outputs": [],
   "source": [
    "X_train, X_test, y_train, y_test = train_test_split(X, y_label, test_size=0.4, random_state=42)"
   ]
  },
  {
   "cell_type": "code",
   "execution_count": 9,
   "id": "928eb789",
   "metadata": {},
   "outputs": [
    {
     "name": "stdout",
     "output_type": "stream",
     "text": [
      "Train shape : (90, 4), Y Train : (90, 3)\n",
      "(4,)\n"
     ]
    }
   ],
   "source": [
    "print(f\"Train shape : {X_train.shape}, Y Train : {y_train.shape}\")\n",
    "print(X_train.shape[1:])"
   ]
  },
  {
   "cell_type": "code",
   "execution_count": 10,
   "id": "c2613959",
   "metadata": {},
   "outputs": [],
   "source": [
    "def create_model():\n",
    "  return tf.keras.models.Sequential([\n",
    "    tf.keras.layers.Flatten(input_shape=(4,), name='Input'),\n",
    "    tf.keras.layers.Dense(150, activation='relu', name='Hidden_Layer_1'),\n",
    "    tf.keras.layers.Dense(50, activation='relu', name='Hidden_Layer_2'),\n",
    "    tf.keras.layers.Dense(3, activation='softmax', name='Output'),\n",
    "  ])"
   ]
  },
  {
   "cell_type": "code",
   "execution_count": 11,
   "id": "639cb911",
   "metadata": {},
   "outputs": [],
   "source": [
    "model = create_model()\n",
    "model.compile(optimizer='adam', \n",
    "              loss=keras.losses.CategoricalCrossentropy(),\n",
    "             metrics=['accuracy'])"
   ]
  },
  {
   "cell_type": "code",
   "execution_count": 12,
   "id": "d9087b0a",
   "metadata": {},
   "outputs": [
    {
     "name": "stdout",
     "output_type": "stream",
     "text": [
      "Model: \"sequential\"\n",
      "_________________________________________________________________\n",
      " Layer (type)                Output Shape              Param #   \n",
      "=================================================================\n",
      " Input (Flatten)             (None, 4)                 0         \n",
      "                                                                 \n",
      " Hidden_Layer_1 (Dense)      (None, 150)               750       \n",
      "                                                                 \n",
      " Hidden_Layer_2 (Dense)      (None, 50)                7550      \n",
      "                                                                 \n",
      " Output (Dense)              (None, 3)                 153       \n",
      "                                                                 \n",
      "=================================================================\n",
      "Total params: 8,453\n",
      "Trainable params: 8,453\n",
      "Non-trainable params: 0\n",
      "_________________________________________________________________\n"
     ]
    }
   ],
   "source": [
    "model.summary()"
   ]
  },
  {
   "cell_type": "code",
   "execution_count": 13,
   "id": "d2aa7626",
   "metadata": {
    "scrolled": false
   },
   "outputs": [
    {
     "name": "stdout",
     "output_type": "stream",
     "text": [
      "Epoch 1/30\n",
      "3/3 [==============================] - 2s 5ms/step - loss: 1.1691 - accuracy: 0.3556\n",
      "Epoch 2/30\n",
      "3/3 [==============================] - 0s 5ms/step - loss: 0.9805 - accuracy: 0.5778\n",
      "Epoch 3/30\n",
      "3/3 [==============================] - 0s 5ms/step - loss: 0.9108 - accuracy: 0.6333\n",
      "Epoch 4/30\n",
      "3/3 [==============================] - 0s 4ms/step - loss: 0.8521 - accuracy: 0.9333\n",
      "Epoch 5/30\n",
      "3/3 [==============================] - 0s 5ms/step - loss: 0.7989 - accuracy: 0.7000\n",
      "Epoch 6/30\n",
      "3/3 [==============================] - 0s 5ms/step - loss: 0.7458 - accuracy: 0.6556\n",
      "Epoch 7/30\n",
      "3/3 [==============================] - 0s 6ms/step - loss: 0.6978 - accuracy: 0.7000\n",
      "Epoch 8/30\n",
      "3/3 [==============================] - 0s 5ms/step - loss: 0.6519 - accuracy: 0.8222\n",
      "Epoch 9/30\n",
      "3/3 [==============================] - 0s 5ms/step - loss: 0.6131 - accuracy: 0.9111\n",
      "Epoch 10/30\n",
      "3/3 [==============================] - 0s 5ms/step - loss: 0.5795 - accuracy: 0.9000\n",
      "Epoch 11/30\n",
      "3/3 [==============================] - 0s 6ms/step - loss: 0.5438 - accuracy: 0.9222\n",
      "Epoch 12/30\n",
      "3/3 [==============================] - 0s 5ms/step - loss: 0.5171 - accuracy: 0.9333\n",
      "Epoch 13/30\n",
      "3/3 [==============================] - 0s 6ms/step - loss: 0.4899 - accuracy: 0.9111\n",
      "Epoch 14/30\n",
      "3/3 [==============================] - 0s 5ms/step - loss: 0.4707 - accuracy: 0.8667\n",
      "Epoch 15/30\n",
      "3/3 [==============================] - 0s 5ms/step - loss: 0.4475 - accuracy: 0.9333\n",
      "Epoch 16/30\n",
      "3/3 [==============================] - 0s 6ms/step - loss: 0.4265 - accuracy: 0.9556\n",
      "Epoch 17/30\n",
      "3/3 [==============================] - 0s 6ms/step - loss: 0.4103 - accuracy: 0.9556\n",
      "Epoch 18/30\n",
      "3/3 [==============================] - 0s 6ms/step - loss: 0.3931 - accuracy: 0.9222\n",
      "Epoch 19/30\n",
      "3/3 [==============================] - 0s 5ms/step - loss: 0.3764 - accuracy: 0.9556\n",
      "Epoch 20/30\n",
      "3/3 [==============================] - 0s 5ms/step - loss: 0.3650 - accuracy: 0.9667\n",
      "Epoch 21/30\n",
      "3/3 [==============================] - 0s 4ms/step - loss: 0.3525 - accuracy: 0.9667\n",
      "Epoch 22/30\n",
      "3/3 [==============================] - 0s 4ms/step - loss: 0.3439 - accuracy: 0.9333\n",
      "Epoch 23/30\n",
      "3/3 [==============================] - 0s 6ms/step - loss: 0.3267 - accuracy: 0.9333\n",
      "Epoch 24/30\n",
      "3/3 [==============================] - 0s 6ms/step - loss: 0.3157 - accuracy: 0.9556\n",
      "Epoch 25/30\n",
      "3/3 [==============================] - 0s 5ms/step - loss: 0.3067 - accuracy: 0.9556\n",
      "Epoch 26/30\n",
      "3/3 [==============================] - 0s 6ms/step - loss: 0.3067 - accuracy: 0.9444\n",
      "Epoch 27/30\n",
      "3/3 [==============================] - 0s 7ms/step - loss: 0.2947 - accuracy: 0.9444\n",
      "Epoch 28/30\n",
      "3/3 [==============================] - 0s 4ms/step - loss: 0.2814 - accuracy: 0.9556\n",
      "Epoch 29/30\n",
      "3/3 [==============================] - 0s 4ms/step - loss: 0.2686 - accuracy: 0.9556\n",
      "Epoch 30/30\n",
      "3/3 [==============================] - 0s 5ms/step - loss: 0.2647 - accuracy: 0.9556\n"
     ]
    }
   ],
   "source": [
    "history = model.fit(X_train, y_train, epochs=30)"
   ]
  },
  {
   "cell_type": "code",
   "execution_count": 14,
   "id": "9b1ce107",
   "metadata": {},
   "outputs": [
    {
     "name": "stdout",
     "output_type": "stream",
     "text": [
      "2/2 [==============================] - 0s 4ms/step - loss: 0.2109 - accuracy: 0.9833\n"
     ]
    },
    {
     "data": {
      "text/plain": [
       "[0.21086443960666656, 0.9833333492279053]"
      ]
     },
     "execution_count": 14,
     "metadata": {},
     "output_type": "execute_result"
    }
   ],
   "source": [
    "model.evaluate(X_test, y_test)"
   ]
  },
  {
   "cell_type": "code",
   "execution_count": 15,
   "id": "91f3e5ba",
   "metadata": {},
   "outputs": [
    {
     "data": {
      "image/png": "[encoded data removed]",
      "text/plain": [
       "<Figure size 800x600 with 1 Axes>"
      ]
     },
     "metadata": {},
     "output_type": "display_data"
    }
   ],
   "source": [
    "pd.DataFrame(history.history).plot(figsize=(8,6))\n",
    "plt.grid(True)\n",
    "plt.gca().set_ylim(0, 1)\n",
    "plt.show()"
   ]
  },
  {
   "cell_type": "code",
   "execution_count": 16,
   "id": "77d01040",
   "metadata": {},
   "outputs": [
    {
     "name": "stdout",
     "output_type": "stream",
     "text": [
      "2/2 [==============================] - 0s 4ms/step\n"
     ]
    }
   ],
   "source": [
    "predict_y = model.predict(X_test)"
   ]
  },
  {
   "cell_type": "code",
   "execution_count": 17,
   "id": "e9d55f2a",
   "metadata": {
    "scrolled": true
   },
   "outputs": [
    {
     "data": {
      "text/plain": [
       "array([[8.5077183e-03, 6.1406130e-01, 3.7743101e-01],\n",
       "       [9.7144878e-01, 2.6849968e-02, 1.7011377e-03],\n",
       "       [1.6090116e-05, 4.5564719e-02, 9.5441920e-01],\n",
       "       [1.0561081e-02, 5.6922770e-01, 4.2021120e-01],\n",
       "       [6.4704730e-03, 6.9987857e-01, 2.9365095e-01],\n",
       "       [9.5946485e-01, 3.7662446e-02, 2.8727094e-03],\n",
       "       [6.1128486e-02, 7.7181453e-01, 1.6705698e-01],\n",
       "       [2.1646912e-03, 3.2239065e-01, 6.7544466e-01],\n",
       "       [3.7293397e-03, 5.0550395e-01, 4.9076670e-01],\n",
       "       [2.8598690e-02, 7.7824098e-01, 1.9316043e-01],\n",
       "       [3.1786584e-03, 3.3815902e-01, 6.5866226e-01],\n",
       "       [9.4550025e-01, 5.0000828e-02, 4.4989344e-03],\n",
       "       [9.7168744e-01, 2.6435228e-02, 1.8772709e-03],\n",
       "       [9.4687861e-01, 4.8972528e-02, 4.1489368e-03],\n",
       "       [9.7175455e-01, 2.6076309e-02, 2.1691213e-03],\n",
       "       [1.2933115e-02, 6.0831064e-01, 3.7875623e-01],\n",
       "       [2.6427486e-04, 9.1557555e-02, 9.0817815e-01],\n",
       "       [2.3066700e-02, 7.4399281e-01, 2.3294047e-01],\n",
       "       [1.0307359e-02, 5.3866172e-01, 4.5103097e-01],\n",
       "       [2.8727076e-04, 9.6707292e-02, 9.0300542e-01],\n",
       "       [9.3971157e-01, 5.5060595e-02, 5.2278638e-03],\n",
       "       [3.8573977e-03, 3.4225753e-01, 6.5388507e-01],\n",
       "       [9.4993722e-01, 4.5941930e-02, 4.1208332e-03],\n",
       "       [3.4620750e-04, 1.1191821e-01, 8.8773561e-01],\n",
       "       [8.7483763e-04, 3.3657160e-01, 6.6255355e-01],\n",
       "       [1.2631213e-03, 2.2727647e-01, 7.7146041e-01],\n",
       "       [2.6171954e-04, 1.4425552e-01, 8.5548276e-01],\n",
       "       [3.1303620e-04, 1.0822316e-01, 8.9146388e-01],\n",
       "       [9.3944943e-01, 5.5250350e-02, 5.3002154e-03],\n",
       "       [9.3132168e-01, 6.2931836e-02, 5.7464759e-03],\n",
       "       [9.6987331e-01, 2.7370630e-02, 2.7561469e-03],\n",
       "       [9.8413557e-01, 1.4896526e-02, 9.6782000e-04],\n",
       "       [1.9413186e-02, 8.2050705e-01, 1.6007978e-01],\n",
       "       [9.5446122e-01, 4.1741475e-02, 3.7972722e-03],\n",
       "       [9.5262498e-01, 4.2653337e-02, 4.7217086e-03],\n",
       "       [1.2154260e-03, 2.4918750e-01, 7.4959713e-01],\n",
       "       [1.7659830e-02, 7.2125500e-01, 2.6108515e-01],\n",
       "       [9.6621054e-01, 3.1347327e-02, 2.4422198e-03],\n",
       "       [9.6876961e-01, 2.8791012e-02, 2.4394696e-03],\n",
       "       [9.7853094e-01, 2.0010948e-02, 1.4581353e-03],\n",
       "       [9.6808956e-04, 1.5087606e-01, 8.4815580e-01],\n",
       "       [2.0821543e-02, 6.1214995e-01, 3.6702856e-01],\n",
       "       [1.1011366e-02, 7.1829045e-01, 2.7069822e-01],\n",
       "       [9.7755492e-01, 2.0854831e-02, 1.5901874e-03],\n",
       "       [9.7277379e-01, 2.5409987e-02, 1.8161722e-03],\n",
       "       [2.9860914e-02, 7.8673518e-01, 1.8340391e-01],\n",
       "       [2.8941350e-03, 3.9806503e-01, 5.9904081e-01],\n",
       "       [1.2795032e-03, 2.2988363e-01, 7.6883692e-01],\n",
       "       [1.6895035e-02, 7.9467660e-01, 1.8842834e-01],\n",
       "       [3.7529334e-04, 1.2128433e-01, 8.7834036e-01],\n",
       "       [2.1171976e-02, 6.6687840e-01, 3.1194958e-01],\n",
       "       [9.2446309e-05, 1.0675890e-01, 8.9314872e-01],\n",
       "       [1.1044812e-02, 4.6745509e-01, 5.2150011e-01],\n",
       "       [9.6732742e-01, 3.0195171e-02, 2.4773865e-03],\n",
       "       [6.5464017e-05, 1.0457642e-01, 8.9535815e-01],\n",
       "       [2.3789719e-02, 7.7863723e-01, 1.9757301e-01],\n",
       "       [9.6536994e-01, 3.2088883e-02, 2.5412310e-03],\n",
       "       [9.6724141e-01, 3.0084029e-02, 2.6745396e-03],\n",
       "       [9.5152855e-01, 4.4596095e-02, 3.8754202e-03],\n",
       "       [2.3125056e-02, 6.9103885e-01, 2.8583610e-01]], dtype=float32)"
      ]
     },
     "execution_count": 17,
     "metadata": {},
     "output_type": "execute_result"
    }
   ],
   "source": [
    "predict_y"
   ]
  },
  {
   "cell_type": "code",
   "execution_count": 18,
   "id": "4fce79ad",
   "metadata": {},
   "outputs": [],
   "source": [
    "predict_class = np.argmax(predict_y, axis=1)"
   ]
  },
  {
   "cell_type": "code",
   "execution_count": 19,
   "id": "cd2a810e",
   "metadata": {},
   "outputs": [
    {
     "data": {
      "text/plain": [
       "array([1, 0, 2, 1, 1, 0, 1, 2, 1, 1, 2, 0, 0, 0, 0, 1, 2, 1, 1, 2, 0, 2,\n",
       "       0, 2, 2, 2, 2, 2, 0, 0, 0, 0, 1, 0, 0, 2, 1, 0, 0, 0, 2, 1, 1, 0,\n",
       "       0, 1, 2, 2, 1, 2, 1, 2, 2, 0, 2, 1, 0, 0, 0, 1], dtype=int64)"
      ]
     },
     "execution_count": 19,
     "metadata": {},
     "output_type": "execute_result"
    }
   ],
   "source": [
    "predict_class"
   ]
  },
  {
   "cell_type": "code",
   "execution_count": 21,
   "id": "f8ae0ef0",
   "metadata": {},
   "outputs": [
    {
     "name": "stdout",
     "output_type": "stream",
     "text": [
      "1/1 [==============================] - 0s 25ms/step\n",
      "Actual values : [[0. 1. 0.]\n",
      " [1. 0. 0.]\n",
      " [0. 0. 1.]\n",
      " [0. 1. 0.]\n",
      " [0. 1. 0.]\n",
      " [1. 0. 0.]\n",
      " [0. 1. 0.]\n",
      " [0. 0. 1.]\n",
      " [0. 1. 0.]\n",
      " [0. 1. 0.]]\n",
      "1\n",
      "0\n",
      "2\n",
      "1\n",
      "1\n",
      "0\n",
      "1\n",
      "2\n",
      "1\n",
      "1\n"
     ]
    }
   ],
   "source": [
    "new_values, y_values = X_test[:10], y_test[:10]\n",
    "\n",
    "y_prob = model.predict(new_data)\n",
    "\n",
    "print(f\"Actual values : {y_values}\")\n",
    "\n",
    "for pred in y_prob:\n",
    "    print(np.argmax(pred))"
   ]
  },
  {
   "cell_type": "code",
   "execution_count": 23,
   "id": "957e58e1",
   "metadata": {},
   "outputs": [],
   "source": [
    "model.save('Iris_model.keras')"
   ]
  },
  {
   "cell_type": "code",
   "execution_count": null,
   "id": "9cfde04d",
   "metadata": {},
   "outputs": [],
   "source": []
  }
 ],
 "metadata": {
  "kernelspec": {
   "display_name": "Python 3 (ipykernel)",
   "language": "python",
   "name": "python3"
  },
  "language_info": {
   "codemirror_mode": {
    "name": "ipython",
    "version": 3
   },
   "file_extension": ".py",
   "mimetype": "text/x-python",
   "name": "python",
   "nbconvert_exporter": "python",
   "pygments_lexer": "ipython3",
   "version": "3.9.17"
  }
 },
 "nbformat": 4,
 "nbformat_minor": 5
}
